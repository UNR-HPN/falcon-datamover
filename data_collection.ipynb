{
 "cells": [
  {
   "cell_type": "code",
   "execution_count": 6,
   "metadata": {},
   "outputs": [],
   "source": [
    "import os\n",
    "import numpy as np\n",
    "import pandas as pd"
   ]
  },
  {
   "cell_type": "code",
   "execution_count": 7,
   "metadata": {},
   "outputs": [],
   "source": [
    "path_to_log_files_directory = \"logs/\""
   ]
  },
  {
   "cell_type": "code",
   "execution_count": 8,
   "metadata": {},
   "outputs": [],
   "source": [
    "def get_dir_paths(root_path):\n",
    "    dir_paths = []\n",
    "    \n",
    "    for abs_path, dirs, files in os.walk(root_path):\n",
    "        if len(dirs) == 0:\n",
    "            dir_paths.append(os.path.relpath(abs_path, root_path) + \"/\")\n",
    "    \n",
    "    return dir_paths"
   ]
  },
  {
   "cell_type": "code",
   "execution_count": 9,
   "metadata": {},
   "outputs": [],
   "source": [
    "def get_all_data(f_path):\n",
    "    seconds = []\n",
    "    throughputs = []\n",
    "    line_cnt = 0\n",
    "    \n",
    "    with open(f_path, \"r\") as f:\n",
    "        for line in f:\n",
    "            data = line.rstrip().split()\n",
    "            if line_cnt>50:\n",
    "                break\n",
    "                \n",
    "            try:\n",
    "                seconds.append(float(data[0]))\n",
    "                throughputs.append(float(data[2]))\n",
    "            except:\n",
    "                pass\n",
    "            \n",
    "            line_cnt+=1\n",
    "            \n",
    "    while len(throughputs)>=2 and throughputs[0] == 0 and throughputs[1] == 0:\n",
    "        del throughputs[0]\n",
    "        \n",
    "    while len(seconds) > len(throughputs):\n",
    "        del seconds[-1]\n",
    "        \n",
    "    return seconds[:30], throughputs[:30]"
   ]
  },
  {
   "cell_type": "code",
   "execution_count": 10,
   "metadata": {},
   "outputs": [],
   "source": [
    "df = pd.DataFrame({})\n",
    "\n",
    "dir_paths = get_dir_paths(path_to_log_files_directory)\n",
    "        \n",
    "for i, path in enumerate(dir_paths):\n",
    "    path = os.path.join(path_to_log_files_directory, path)\n",
    "    dir_paths[i] = path\n",
    "        \n",
    "for dir_path in dir_paths:\n",
    "    if 'freq' in dir_path.split('/'):\n",
    "        continue\n",
    "           \n",
    "    files = [f for f in os.listdir(dir_path)]\n",
    "            \n",
    "    for file in files:\n",
    "        try:\n",
    "            if \".csv\" in file:\n",
    "                continue\n",
    "                    \n",
    "            file_path = os.path.join(dir_path, file)\n",
    "            seconds, throughputs = get_all_data(file_path)\n",
    "                \n",
    "            if len(throughputs) == 0 or sum(throughputs) == 0:\n",
    "                continue\n",
    "            \n",
    "            if 'pronghorn' in file_path:\n",
    "                net_name = 'pronghorn'\n",
    "            elif 'dtns' in file_path:\n",
    "                net_name = 'dtns'\n",
    "            elif 'esnet' in file_path:\n",
    "                net_name = 'esnet'\n",
    "            elif 'comet' in file_path or 'sc' in file_path:\n",
    "                net_name = 'xsede'import log_file_reader\n",
    "import dir_filter\n",
    "            else:\n",
    "                net_name = np.nan\n",
    "            \n",
    "            data = {\n",
    "                \"file_name\": [file],\n",
    "                \"network_name\": [net_name]\n",
    "            }\n",
    "\n",
    "            for i in range(len(throughputs)):\n",
    "                key = 'p' + str(i+1)\n",
    "                data[key] = [throughputs[i]]\n",
    "\n",
    "            data['mean_throughput'] = [np.mean(throughputs)]\n",
    "            data['median_throughput'] = [np.median(throughputs)]\n",
    "            data['stdv_throughput'] = [np.std(throughputs)]\n",
    "                    \n",
    "            temp_df = pd.DataFrame(data)\n",
    "            df = df.append(temp_df, ignore_index=True, sort=False)\n",
    "        except Exception as e:\n",
    "            file_path = os.path.join(dir_path, file)\n",
    "            print(\"{0}: {1}\".format(file_path, e))\n",
    "            \n",
    "df.to_csv(\"network_data_all.csv\", index=False)"
   ]
  },
  {
   "cell_type": "code",
   "execution_count": null,
   "metadata": {},
   "outputs": [],
   "source": []
  }
 ],
 "metadata": {
  "kernelspec": {
   "display_name": "Python 3",
   "language": "python",
   "name": "python3"
  },
  "language_info": {
   "codemirror_mode": {
    "name": "ipython",
    "version": 3
   },
   "file_extension": ".py",
   "mimetype": "text/x-python",
   "name": "python",
   "nbconvert_exporter": "python",
   "pygments_lexer": "ipython3",
   "version": "3.7.3"
  }
 },
 "nbformat": 4,
 "nbformat_minor": 4
}
